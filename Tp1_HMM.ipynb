{
  "nbformat": 4,
  "nbformat_minor": 0,
  "metadata": {
    "colab": {
      "name": "Tp1_AhlemJouidi_firas_omrane.ipynb",
      "provenance": []
    },
    "kernelspec": {
      "display_name": "Python 3",
      "language": "python",
      "name": "python3"
    },
    "language_info": {
      "codemirror_mode": {
        "name": "ipython",
        "version": 3
      },
      "file_extension": ".py",
      "mimetype": "text/x-python",
      "name": "python",
      "nbconvert_exporter": "python",
      "pygments_lexer": "ipython3",
      "version": "3.7.3"
    }
  },
  "cells": [
    {
      "cell_type": "markdown",
      "metadata": {
        "colab_type": "text",
        "id": "v8iIu82EdmU0"
      },
      "source": [
        "# <center > Introduction to Probabilistic Graphical Models\n",
        "## <center > Practical Session 1"
      ]
    },
    {
      "cell_type": "markdown",
      "metadata": {
        "colab_type": "text",
        "id": "zoaDnyFtdxUL"
      },
      "source": [
        "### Students : Firas Omrane and Ahlem Jouidi"
      ]
    },
    {
      "cell_type": "code",
      "metadata": {
        "colab_type": "code",
        "id": "V2SKyoXmfKo2",
        "colab": {}
      },
      "source": [
        "import numpy as np\n",
        "import random"
      ],
      "execution_count": 0,
      "outputs": []
    },
    {
      "cell_type": "markdown",
      "metadata": {
        "colab_type": "text",
        "id": "L4e_FinLd1c5"
      },
      "source": [
        "## Question 0 : \n",
        " we can show that :\n",
        " \n",
        " $ \\log \\sum_{i=1}^{I} \\exp v_i = a + \\log \\sum_{i=1}^{I} \\exp v_i-a  $ \n",
        " \\\\\n",
        " \n",
        "For an arbitrary a. \\\\\n",
        "This means, we can shift the center of the exponential sum.\n",
        "we can take $ a= \\max_{i} v_i$"
      ]
    },
    {
      "cell_type": "code",
      "metadata": {
        "colab_type": "code",
        "id": "q0-KsJDCdtG1",
        "outputId": "5d2f0aa9-cd38-4786-9b02-e02fe2937644",
        "colab": {
          "base_uri": "https://localhost:8080/",
          "height": 34
        }
      },
      "source": [
        "def logSumExp(v) :\n",
        "    a= np.max(v)\n",
        "    return a+np.log(np.sum(np.exp(v-a)))\n",
        "\n",
        "v=np.array([-1234,-1235])\n",
        "logSumExp(v)"
      ],
      "execution_count": 3,
      "outputs": [
        {
          "output_type": "execute_result",
          "data": {
            "text/plain": [
              "-1233.6867383124818"
            ]
          },
          "metadata": {
            "tags": []
          },
          "execution_count": 3
        }
      ]
    },
    {
      "cell_type": "markdown",
      "metadata": {
        "colab_type": "text",
        "id": "yQQqdGBCgy9K"
      },
      "source": [
        "## Question 1"
      ]
    },
    {
      "cell_type": "markdown",
      "metadata": {
        "colab_type": "text",
        "id": "4n3padfGiJSu"
      },
      "source": [
        "The robots can be in N positions in the circular corridor. \\\\\n",
        "Let's denote : \\\\\n",
        "$ x_k :$ position of the robot $ k \\in {1..N} $ \\\\\n",
        "$ y_k : $ the noisy observation of the robot at step k. \\\\\n",
        "Initial probability $ \\pi_i= \\frac{1}{N} $ \\\\\n",
        "\n",
        "It is a Hidden Markov Chain. \n"
      ]
    },
    {
      "cell_type": "code",
      "metadata": {
        "id": "6cLOm9nGi_-i",
        "colab_type": "code",
        "outputId": "aed4d20a-65a3-4aa5-f2f3-c41ddd1334f6",
        "colab": {
          "base_uri": "https://localhost:8080/",
          "height": 269
        }
      },
      "source": [
        "print('The associated directed graphical model of this hidden markov chain :')\n",
        "from IPython.display import display, Image, SVG, Math, YouTubeVideo\n",
        "Image(url='https://imagizer.imageshack.com/img923/3069/WG04MN.png')"
      ],
      "execution_count": 4,
      "outputs": [
        {
          "output_type": "stream",
          "text": [
            "The associated directed graphical model of this hidden markov chain :\n"
          ],
          "name": "stdout"
        },
        {
          "output_type": "execute_result",
          "data": {
            "text/html": [
              "<img src=\"https://imagizer.imageshack.com/img923/3069/WG04MN.png\"/>"
            ],
            "text/plain": [
              "<IPython.core.display.Image object>"
            ]
          },
          "metadata": {
            "tags": []
          },
          "execution_count": 4
        }
      ]
    },
    {
      "cell_type": "markdown",
      "metadata": {
        "colab_type": "text",
        "id": "iGZvFqnkm4Zs"
      },
      "source": [
        "The transition model is : $$P(x_n=i/x_{n-1}=j) = A_{ij} $$\n",
        "where $ A{ij} $ is the transition matrix. \\\\\n",
        "\n",
        "The observation model is : $$ P(y_n/x_n)= w*\\delta(y_n-x_n) - (1-w)*\\mathcal{U}(1..N)$$\n",
        "\n",
        "  where $ \\delta $ is the dirac function \\\\\n",
        "  $ \\mathcal{U} $ is the uniform distribution \n",
        "  \n",
        "  "
      ]
    },
    {
      "cell_type": "markdown",
      "metadata": {
        "colab_type": "text",
        "id": "XxuIxGyep3uG"
      },
      "source": [
        "The transition matrix $A=$\n",
        "\\begin{bmatrix}\n",
        "\\epsilon  & 0  & 0 & \\cdots & \\cdots & \\cdots & \\cdots & 1-\\epsilon \\\\\n",
        "1-\\epsilon  & \\epsilon  & 0  & \\ddots & && & \\vdots \\\\\n",
        "0 & 1-\\epsilon  & \\epsilon & 0  & \\ddots & &  & \\vdots \\\\\n",
        "\\vdots & \\ddots & \\ddots & \\ddots & \\ddots & \\ddots &  & \\vdots \\\\\n",
        "\\vdots & & \\ddots & \\ddots & \\ddots & \\ddots & \\ddots& \\vdots\\\\\n",
        "\\vdots  & & & \\ddots & 1-\\epsilon  & \\epsilon  &  0  & 0\\\\\n",
        "\\vdots  & && & \\ddots & 1-\\epsilon  & \\epsilon  &  0\\\\\n",
        "0 & \\cdots &  \\cdots & \\cdots & \\cdots & 0 & 1-\\epsilon & \\epsilon  \\\\\n",
        "\\end{bmatrix}"
      ]
    },
    {
      "cell_type": "markdown",
      "metadata": {
        "id": "MfnoSCd2FfTG",
        "colab_type": "text"
      },
      "source": [
        "\n"
      ]
    },
    {
      "cell_type": "markdown",
      "metadata": {
        "colab_type": "text",
        "id": "9FbrwI9rxOo8"
      },
      "source": [
        "## Question 3"
      ]
    },
    {
      "cell_type": "markdown",
      "metadata": {
        "colab_type": "text",
        "id": "PctIsycV09oN"
      },
      "source": [
        "\\usepackage{amsmath} \\\\"
      ]
    },
    {
      "cell_type": "markdown",
      "metadata": {
        "colab_type": "text",
        "id": "JEIC6tJYxXld"
      },
      "source": [
        "\n",
        "a) Distribution of the robot's current position given the observations so far :\n",
        "$P(x_k|y_{1:k})$ \\\\\n",
        "\n",
        "b) Distribution of the robot's position at time step k given all the observations : $P(x_k|y_{1:N})$ \\\\\n",
        "\n",
        "c) Distribution of the robot's next position given the observations so far : $P(x_{k+1}|y_{1:k})$ \\\\\n",
        "\n",
        "d) Distribution of the robot's next sensor reading given the observations so far : $P(y_{k+1}|y_{1:k})$ \\\\\n",
        "\n",
        "e) Distribution of the robot's initial position given observations so far : $P(x_0|y_{1:k})$ \\\\\n",
        "\n",
        "f) Most likely current position of the robot given the observations so far : $x^{*}= \\operatorname*{argmax}_{x_k}P(x_k|y_{1:k})$ \\\\\n",
        "\n",
        "g) Most likely trajectory taken by the robot from the start until now given the observations so far : $ (x_1^{*},x_2^{*},..,x_k^{*}) = \\operatorname*{argmax}_{x_k}P(x_{1:k}|y_{1:k})$\n"
      ]
    },
    {
      "cell_type": "markdown",
      "metadata": {
        "colab_type": "text",
        "id": "0NKg8fW87rbb"
      },
      "source": [
        "## Question 4"
      ]
    },
    {
      "cell_type": "code",
      "metadata": {
        "colab_type": "code",
        "id": "GizCvNnsrOUe",
        "colab": {}
      },
      "source": [
        "## The value returned by the sensor : P=w right step\n",
        "##                                    P=1-w wrong step\n",
        "def predictY(i):\n",
        "    positions=np.arange(N)\n",
        "    positions=np.delete(positions, i)\n",
        "    other=np.random.choice(positions,1)\n",
        "    y=np.random.choice([i,other],1,p=[w,1-w])\n",
        "    return int(y)"
      ],
      "execution_count": 0,
      "outputs": []
    },
    {
      "cell_type": "code",
      "metadata": {
        "colab_type": "code",
        "id": "phSlMIlvfFlb",
        "outputId": "08182025-6705-42d1-9155-35f9c1af52c1",
        "colab": {
          "base_uri": "https://localhost:8080/",
          "height": 105
        }
      },
      "source": [
        "N=50\n",
        "K=100\n",
        "epsilon=0.3\n",
        "w=0.8\n",
        "\n",
        "#First step and first value returned by the sensor\n",
        "x_0=random.randint(0,N)\n",
        "y_0=predictY(x_0)\n",
        "\n",
        "X=[x_0]\n",
        "Y=[y_0]\n",
        "\n",
        "#Generation of the sequence of steps and values returned by the sensor\n",
        "x=int(x_0)\n",
        "for i in range(1,K):\n",
        "    if x==N-1 :\n",
        "        x=int(np.random.choice([x,0],1,p=[epsilon,1-epsilon]))\n",
        "    else :\n",
        "        x=int(np.random.choice([x,x+1],1,p=[epsilon,1-epsilon]))\n",
        "\n",
        "    X.append(x)\n",
        "    y=predictY(x)\n",
        "    Y.append(y)\n",
        "  \n",
        "  \n",
        "print('The sequence of steps is :')\n",
        "print(X)\n",
        "print('The sequence of values returned by the sensor is ')\n",
        "print(Y)\n",
        "  "
      ],
      "execution_count": 6,
      "outputs": [
        {
          "output_type": "stream",
          "text": [
            "The sequence of steps is :\n",
            "[34, 35, 35, 36, 37, 38, 39, 39, 39, 39, 39, 39, 40, 40, 41, 42, 42, 43, 43, 43, 43, 44, 45, 45, 45, 46, 47, 47, 47, 48, 48, 49, 0, 1, 2, 3, 4, 5, 6, 7, 8, 9, 10, 10, 11, 12, 13, 14, 14, 14, 15, 16, 17, 18, 19, 20, 21, 22, 23, 24, 24, 24, 24, 25, 26, 27, 28, 29, 30, 31, 31, 32, 33, 33, 34, 34, 35, 36, 37, 38, 39, 40, 41, 42, 43, 44, 44, 45, 46, 46, 47, 48, 49, 49, 0, 1, 2, 2, 2, 2]\n",
            "The sequence of values returned by the sensor is \n",
            "[34, 35, 35, 36, 37, 38, 39, 39, 39, 39, 39, 39, 40, 40, 41, 42, 42, 43, 43, 43, 43, 44, 45, 45, 45, 46, 47, 47, 47, 48, 48, 49, 0, 1, 2, 3, 4, 5, 6, 22, 8, 9, 21, 10, 11, 12, 13, 14, 14, 14, 9, 16, 17, 31, 19, 20, 21, 14, 23, 24, 24, 24, 24, 25, 26, 23, 28, 29, 30, 31, 27, 32, 33, 33, 15, 34, 35, 36, 37, 38, 39, 40, 41, 39, 31, 44, 44, 27, 46, 37, 12, 48, 36, 49, 0, 1, 2, 30, 2, 2]\n"
          ],
          "name": "stdout"
        }
      ]
    },
    {
      "cell_type": "code",
      "metadata": {
        "colab_type": "code",
        "id": "HH_kxKoQi6UM",
        "outputId": "914774bf-6ac1-4e77-d73e-991419acbe46",
        "colab": {
          "base_uri": "https://localhost:8080/",
          "height": 357
        }
      },
      "source": [
        "#Definition of the transition matrix\n",
        "A=np.zeros((N,N))\n",
        "for i in range(N):\n",
        "    A[i,i]=epsilon\n",
        "    A[i,i-1]=1-epsilon\n",
        "print('The transition matrix A =')\n",
        "print(A)\n",
        "\n",
        "B=np.ones((N,N))\n",
        "for i in range(N):\n",
        "    for j in range(N):\n",
        "        if i==j:\n",
        "            B[i,i]=w-(1-w)*1/N\n",
        "        else :\n",
        "            B[i,j]=(1-w)*1/N\n",
        "print(B)\n",
        "#The initial probaility vector Pi\n",
        "pi=np.ones(N)*1/N\n",
        "print('The initial probabilities vector Pi =')\n",
        "print(pi)"
      ],
      "execution_count": 7,
      "outputs": [
        {
          "output_type": "stream",
          "text": [
            "The transition matrix A =\n",
            "[[0.3 0.  0.  ... 0.  0.  0.7]\n",
            " [0.7 0.3 0.  ... 0.  0.  0. ]\n",
            " [0.  0.7 0.3 ... 0.  0.  0. ]\n",
            " ...\n",
            " [0.  0.  0.  ... 0.3 0.  0. ]\n",
            " [0.  0.  0.  ... 0.7 0.3 0. ]\n",
            " [0.  0.  0.  ... 0.  0.7 0.3]]\n",
            "[[0.796 0.004 0.004 ... 0.004 0.004 0.004]\n",
            " [0.004 0.796 0.004 ... 0.004 0.004 0.004]\n",
            " [0.004 0.004 0.796 ... 0.004 0.004 0.004]\n",
            " ...\n",
            " [0.004 0.004 0.004 ... 0.796 0.004 0.004]\n",
            " [0.004 0.004 0.004 ... 0.004 0.796 0.004]\n",
            " [0.004 0.004 0.004 ... 0.004 0.004 0.796]]\n",
            "The initial probabilities vector Pi =\n",
            "[0.02 0.02 0.02 0.02 0.02 0.02 0.02 0.02 0.02 0.02 0.02 0.02 0.02 0.02\n",
            " 0.02 0.02 0.02 0.02 0.02 0.02 0.02 0.02 0.02 0.02 0.02 0.02 0.02 0.02\n",
            " 0.02 0.02 0.02 0.02 0.02 0.02 0.02 0.02 0.02 0.02 0.02 0.02 0.02 0.02\n",
            " 0.02 0.02 0.02 0.02 0.02 0.02 0.02 0.02]\n"
          ],
          "name": "stdout"
        }
      ]
    },
    {
      "cell_type": "code",
      "metadata": {
        "colab_type": "code",
        "id": "6TUW2Xb0p1fn",
        "colab": {}
      },
      "source": [
        "def logSumExp(v,A):\n",
        "    a=max(v)\n",
        "    return a+np.log(A @ np.exp(v - a))\n",
        "\n"
      ],
      "execution_count": 0,
      "outputs": []
    },
    {
      "cell_type": "code",
      "metadata": {
        "id": "i0jnGZd5N6Xz",
        "colab_type": "code",
        "colab": {}
      },
      "source": [
        "def forward(k, i, X):\n",
        "    if (i==0):\n",
        "        return np.log(np.ones(N)/N)\n",
        "    elif(k == i):\n",
        "        return np.log(B[X[i-1] - 1,:]) + forward(k,i-1, X)\n",
        "    else :\n",
        "        return logSumExp(forward(k-1, i, X),A)     \n",
        " \n",
        "   \n",
        "  "
      ],
      "execution_count": 0,
      "outputs": []
    },
    {
      "cell_type": "code",
      "metadata": {
        "id": "vQLK-tbJCY5n",
        "colab_type": "code",
        "colab": {}
      },
      "source": [
        "\n",
        "def backward(k,i, X):\n",
        "\n",
        "    if (i == len(X)+1):\n",
        "        return np.zeros(np.shape(A)[0])\n",
        "    elif (k == i):\n",
        "        return np.log(B[:,X[i-1] - 1]) + backward(k,i+1,X)\n",
        "    else :\n",
        "        return logSumExp(backward(k+1, i,X),A.T)\n",
        "        \n",
        "  \n",
        "   "
      ],
      "execution_count": 0,
      "outputs": []
    },
    {
      "cell_type": "code",
      "metadata": {
        "id": "raD9PZoqOQqd",
        "colab_type": "code",
        "colab": {}
      },
      "source": [
        "def TotalDistri(X,k ):\n",
        "    N=len(X)\n",
        "    z= np.exp(forward(N,N,X)) \n",
        "    forw = forward(k,k,X)\n",
        "    backw  = backward(k, k+1, X)\n",
        "    return np.exp(forw + backw)/np.sum(z)\n",
        "        "
      ],
      "execution_count": 0,
      "outputs": []
    },
    {
      "cell_type": "code",
      "metadata": {
        "id": "SEET4z6ANHbt",
        "colab_type": "code",
        "outputId": "47d611f0-7338-45a6-c0fa-ccc6d1e14d8a",
        "colab": {
          "base_uri": "https://localhost:8080/",
          "height": 272
        }
      },
      "source": [
        "K=100\n",
        "dist_Robot =  TotalDistri(X,K)\n",
        "print(dist_Robot)\n",
        "print (\"The sum of the probabilities  \")\n",
        "print(np.sum(dist_Robot))  "
      ],
      "execution_count": 12,
      "outputs": [
        {
          "output_type": "stream",
          "text": [
            "[2.74165807e-010 9.88215565e-001 1.16456320e-002 1.37217435e-004\n",
            " 1.58498025e-006 2.33465940e-015 3.43893500e-024 1.00803630e-030\n",
            " 1.20225672e-055 7.00880922e-060 2.05444998e-066 2.34573357e-084\n",
            " 2.71723706e-086 2.65275558e-088 3.98769432e-113 3.70694536e-115\n",
            " 1.37910949e-121 6.37216069e-119 2.94395582e-116 1.36010790e-113\n",
            " 6.28369857e-111 2.90306874e-108 1.34121776e-105 4.01221344e-096\n",
            " 2.20943943e-093 1.03612173e-090 4.79118402e-088 2.21361486e-085\n",
            " 1.02269146e-082 4.72483472e-080 3.75643730e-075 1.99689663e-072\n",
            " 1.62785053e-067 1.51909902e-062 7.89970598e-060 3.67434264e-057\n",
            " 1.69798774e-054 7.84476003e-052 3.62427969e-049 1.67441722e-046\n",
            " 7.73580756e-044 3.57394309e-041 1.65116171e-038 1.42229547e-033\n",
            " 7.03312966e-031 6.16356774e-026 3.00493140e-023 1.39011421e-020\n",
            " 1.24020638e-015 5.93127153e-013]\n",
            "The sum of the probabilities  \n",
            "0.9999999999999999\n"
          ],
          "name": "stdout"
        }
      ]
    },
    {
      "cell_type": "markdown",
      "metadata": {
        "id": "H4HP6fWbCY5p",
        "colab_type": "text"
      },
      "source": [
        "## Question 6"
      ]
    },
    {
      "cell_type": "markdown",
      "metadata": {
        "id": "UYriNn1GCY5p",
        "colab_type": "text"
      },
      "source": [
        "The new transition matrix $A=$\n",
        "\\begin{bmatrix}\n",
        "(1-K)\\epsilon +\\frac{K}{N}  & \\frac{K}{N}  & \\frac{K}{N} & \\cdots & \\cdots & \\cdots & \\cdots & (1-K)(1-\\epsilon) + \\frac{K}{N} \\\\\n",
        "(1-K)(1-\\epsilon) + \\frac{K}{N}  & (1-K)\\epsilon +\\frac{K}{N}  & \\frac{K}{N} & \\ddots & && & \\vdots \\\\\n",
        "\\frac{K}{N} & (1-K)(1-\\epsilon) + \\frac{K}{N}  & (1-K)\\epsilon +\\frac{K}{N} & \\frac{K}{N}  & \\ddots & &  & \\vdots \\\\\n",
        "\\vdots & \\ddots & \\ddots & \\ddots & \\ddots & \\ddots &  & \\vdots \\\\\n",
        "\\vdots & & \\ddots & \\ddots & \\ddots & \\ddots & \\ddots& \\vdots\\\\\n",
        "\\vdots  & & & \\ddots & (1-K)(1-\\epsilon) + \\frac{K}{N}  & (1-K)\\epsilon + \\frac{K}{N}  &  \\frac{K}{N}  & \\frac{K}{N}\\\\\n",
        "\\vdots  & && & \\ddots & (1-K)(1-\\epsilon) + \\frac{K}{N}  & (1-K)\\epsilon + \\frac{K}{N}  &  \\\\\n",
        "\\frac{K}{N} & \\cdots &  \\cdots & \\cdots & \\cdots & 0 & (1-K)(1-\\epsilon) + \\frac{K}{N} & (1-K)\\epsilon + \\frac{K}{N}  \\\\\n",
        "\\end{bmatrix}"
      ]
    },
    {
      "cell_type": "markdown",
      "metadata": {
        "id": "IxkFsO-_CY5q",
        "colab_type": "text"
      },
      "source": [
        "We can reuse the same code since only the transition matrix would be modified"
      ]
    },
    {
      "cell_type": "code",
      "metadata": {
        "id": "g69k2lq7CY5r",
        "colab_type": "code",
        "outputId": "7b21a7d5-2047-4fcf-c243-915edb224417",
        "colab": {
          "base_uri": "https://localhost:8080/",
          "height": 408
        }
      },
      "source": [
        "K = 0.1\n",
        "A=K/N*np.ones((N,N))\n",
        "for i in range(N):\n",
        "    A[i,i]+=(1-K)*epsilon\n",
        "    A[i,i-1]+= (1-K)*(1-epsilon) \n",
        "print('The new transition matrix A =')\n",
        "print(A)\n",
        "B=np.ones((N,N))\n",
        "for i in range(N):\n",
        "    for j in range(N):\n",
        "        if i==j:\n",
        "            B[i,i]=w-(1-w)*1/N\n",
        "        else :\n",
        "            B[i,j]=(1-w)*1/N\n",
        "print('\\n The observation matrix B: ')\n",
        "print(B)\n",
        "#The initial probaility vector Pi\n",
        "pi=np.ones(N)*1/N\n",
        "print('\\n The initial probabilities vector Pi =')\n",
        "print(pi)"
      ],
      "execution_count": 13,
      "outputs": [
        {
          "output_type": "stream",
          "text": [
            "The new transition matrix A =\n",
            "[[0.272 0.002 0.002 ... 0.002 0.002 0.632]\n",
            " [0.632 0.272 0.002 ... 0.002 0.002 0.002]\n",
            " [0.002 0.632 0.272 ... 0.002 0.002 0.002]\n",
            " ...\n",
            " [0.002 0.002 0.002 ... 0.272 0.002 0.002]\n",
            " [0.002 0.002 0.002 ... 0.632 0.272 0.002]\n",
            " [0.002 0.002 0.002 ... 0.002 0.632 0.272]]\n",
            "\n",
            " The observation matrix B: \n",
            "[[0.796 0.004 0.004 ... 0.004 0.004 0.004]\n",
            " [0.004 0.796 0.004 ... 0.004 0.004 0.004]\n",
            " [0.004 0.004 0.796 ... 0.004 0.004 0.004]\n",
            " ...\n",
            " [0.004 0.004 0.004 ... 0.796 0.004 0.004]\n",
            " [0.004 0.004 0.004 ... 0.004 0.796 0.004]\n",
            " [0.004 0.004 0.004 ... 0.004 0.004 0.796]]\n",
            "\n",
            " The initial probabilities vector Pi =\n",
            "[0.02 0.02 0.02 0.02 0.02 0.02 0.02 0.02 0.02 0.02 0.02 0.02 0.02 0.02\n",
            " 0.02 0.02 0.02 0.02 0.02 0.02 0.02 0.02 0.02 0.02 0.02 0.02 0.02 0.02\n",
            " 0.02 0.02 0.02 0.02 0.02 0.02 0.02 0.02 0.02 0.02 0.02 0.02 0.02 0.02\n",
            " 0.02 0.02 0.02 0.02 0.02 0.02 0.02 0.02]\n"
          ],
          "name": "stdout"
        }
      ]
    },
    {
      "cell_type": "code",
      "metadata": {
        "id": "8glB5W4YCY5t",
        "colab_type": "code",
        "outputId": "54f29060-1e99-4d18-d768-8442109bfc1c",
        "colab": {
          "base_uri": "https://localhost:8080/",
          "height": 272
        }
      },
      "source": [
        "K=100\n",
        "dist_Robot =  TotalDistri(X,K)\n",
        "print(dist_Robot)\n",
        "print (\"The sum of the probabilities \")\n",
        "print(np.sum(dist_Robot))  "
      ],
      "execution_count": 14,
      "outputs": [
        {
          "output_type": "stream",
          "text": [
            "[3.75666083e-05 9.86486082e-01 1.15742810e-02 1.72471524e-04\n",
            " 3.91132918e-05 3.75663416e-05 3.75663416e-05 3.75663416e-05\n",
            " 3.75663416e-05 3.75663416e-05 3.75663416e-05 3.75663416e-05\n",
            " 3.75663416e-05 3.75663416e-05 3.75663416e-05 3.75663416e-05\n",
            " 3.75663416e-05 3.75663416e-05 3.75663416e-05 3.75663416e-05\n",
            " 3.75663416e-05 3.75663416e-05 3.75663416e-05 3.75663416e-05\n",
            " 3.75663416e-05 3.75663416e-05 3.75663416e-05 3.75663416e-05\n",
            " 3.75663416e-05 3.75663416e-05 3.75663416e-05 3.75663416e-05\n",
            " 3.75663416e-05 3.75663416e-05 3.75663416e-05 3.75663416e-05\n",
            " 3.75663416e-05 3.75663416e-05 3.75663416e-05 3.75663416e-05\n",
            " 3.75663416e-05 3.75663416e-05 3.75663416e-05 3.75663416e-05\n",
            " 3.75663416e-05 3.75663416e-05 3.75663416e-05 3.75663416e-05\n",
            " 3.75663416e-05 3.75663422e-05]\n",
            "The sum of the probabilities \n",
            "1.0\n"
          ],
          "name": "stdout"
        }
      ]
    },
    {
      "cell_type": "code",
      "metadata": {
        "id": "988TYf4wCY5w",
        "colab_type": "code",
        "colab": {}
      },
      "source": [
        ""
      ],
      "execution_count": 0,
      "outputs": []
    }
  ]
}